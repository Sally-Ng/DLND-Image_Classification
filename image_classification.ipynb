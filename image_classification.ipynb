{
 "cells": [
  {
   "cell_type": "markdown",
   "metadata": {
    "collapsed": true
   },
   "source": [
    "# Image Classification\n",
    "In this project, you'll classify images from the [CIFAR-10 dataset](https://www.cs.toronto.edu/~kriz/cifar.html).  The dataset consists of airplanes, dogs, cats, and other objects. You'll preprocess the images, then train a convolutional neural network on all the samples. The images need to be normalized and the labels need to be one-hot encoded.  You'll get to apply what you learned and build a convolutional, max pooling, dropout, and fully connected layers.  At the end, you'll get to see your neural network's predictions on the sample images.\n",
    "## Get the Data\n",
    "Run the following cell to download the [CIFAR-10 dataset for python](https://www.cs.toronto.edu/~kriz/cifar-10-python.tar.gz)."
   ]
  },
  {
   "cell_type": "code",
   "execution_count": 1,
   "metadata": {
    "collapsed": false
   },
   "outputs": [
    {
     "name": "stdout",
     "output_type": "stream",
     "text": [
      "All files found!\n"
     ]
    }
   ],
   "source": [
    "\"\"\"\n",
    "DON'T MODIFY ANYTHING IN THIS CELL THAT IS BELOW THIS LINE\n",
    "\"\"\"\n",
    "from urllib.request import urlretrieve\n",
    "from os.path import isfile, isdir\n",
    "from tqdm import tqdm\n",
    "import problem_unittests as tests\n",
    "import tarfile\n",
    "\n",
    "cifar10_dataset_folder_path = 'cifar-10-batches-py'\n",
    "\n",
    "class DLProgress(tqdm):\n",
    "    last_block = 0\n",
    "\n",
    "    def hook(self, block_num=1, block_size=1, total_size=None):\n",
    "        self.total = total_size\n",
    "        self.update((block_num - self.last_block) * block_size)\n",
    "        self.last_block = block_num\n",
    "\n",
    "if not isfile('cifar-10-python.tar.gz'):\n",
    "    with DLProgress(unit='B', unit_scale=True, miniters=1, desc='CIFAR-10 Dataset') as pbar:\n",
    "        urlretrieve(\n",
    "            'https://www.cs.toronto.edu/~kriz/cifar-10-python.tar.gz',\n",
    "            'cifar-10-python.tar.gz',\n",
    "            pbar.hook)\n",
    "\n",
    "if not isdir(cifar10_dataset_folder_path):\n",
    "    with tarfile.open('cifar-10-python.tar.gz') as tar:\n",
    "        tar.extractall()\n",
    "        tar.close()\n",
    "\n",
    "\n",
    "tests.test_folder_path(cifar10_dataset_folder_path)"
   ]
  },
  {
   "cell_type": "markdown",
   "metadata": {},
   "source": [
    "## Explore the Data\n",
    "The dataset is broken into batches to prevent your machine from running out of memory.  The CIFAR-10 dataset consists of 5 batches, named `data_batch_1`, `data_batch_2`, etc.. Each batch contains the labels and images that are one of the following:\n",
    "* airplane\n",
    "* automobile\n",
    "* bird\n",
    "* cat\n",
    "* deer\n",
    "* dog\n",
    "* frog\n",
    "* horse\n",
    "* ship\n",
    "* truck\n",
    "\n",
    "Understanding a dataset is part of making predictions on the data.  Play around with the code cell below by changing the `batch_id` and `sample_id`. The `batch_id` is the id for a batch (1-5). The `sample_id` is the id for a image and label pair in the batch.\n",
    "\n",
    "Ask yourself \"What are all possible labels?\", \"What is the range of values for the image data?\", \"Are the labels in order or random?\".  Answers to questions like these will help you preprocess the data and end up with better predictions."
   ]
  },
  {
   "cell_type": "code",
   "execution_count": 2,
   "metadata": {
    "collapsed": false
   },
   "outputs": [
    {
     "name": "stdout",
     "output_type": "stream",
     "text": [
      "\n",
      "Stats of batch 1:\n",
      "Samples: 10000\n",
      "Label Counts: {0: 1005, 1: 974, 2: 1032, 3: 1016, 4: 999, 5: 937, 6: 1030, 7: 1001, 8: 1025, 9: 981}\n",
      "First 20 Labels: [6, 9, 9, 4, 1, 1, 2, 7, 8, 3, 4, 7, 7, 2, 9, 9, 9, 3, 2, 6]\n",
      "\n",
      "Example of Image 5:\n",
      "Image - Min Value: 0 Max Value: 252\n",
      "Image - Shape: (32, 32, 3)\n",
      "Label - Label Id: 1 Name: automobile\n"
     ]
    },
    {
     "data": {
      "image/png": "[encoded data removed]",
      "text/plain": [
       "<matplotlib.figure.Figure at 0x2934c9ab70>"
      ]
     },
     "metadata": {
      "image/png": {
       "height": 250,
       "width": 253
      }
     },
     "output_type": "display_data"
    }
   ],
   "source": [
    "%matplotlib inline\n",
    "%config InlineBackend.figure_format = 'retina'\n",
    "\n",
    "import helper\n",
    "import numpy as np\n",
    "\n",
    "# Explore the dataset\n",
    "batch_id = 1\n",
    "sample_id = 5\n",
    "helper.display_stats(cifar10_dataset_folder_path, batch_id, sample_id)"
   ]
  },
  {
   "cell_type": "markdown",
   "metadata": {},
   "source": [
    "## Implement Preprocess Functions\n",
    "### Normalize\n",
    "In the cell below, implement the `normalize` function to take in image data, `x`, and return it as a normalized Numpy array. The values should be in the range of 0 to 1, inclusive.  The return object should be the same shape as `x`."
   ]
  },
  {
   "cell_type": "code",
   "execution_count": 3,
   "metadata": {
    "collapsed": false
   },
   "outputs": [
    {
     "name": "stdout",
     "output_type": "stream",
     "text": [
      "Tests Passed\n"
     ]
    }
   ],
   "source": [
    "def normalize(x):\n",
    "    \"\"\"\n",
    "    Normalize a list of sample image data in the range of 0 to 1\n",
    "    : x: List of image data.  The image shape is (32, 32, 3)\n",
    "    : return: Numpy array of normalize data\n",
    "    \"\"\"\n",
    "    # TODO: Implement Function\n",
    "    # 1 byte has 8 bits(binary data), 2^8 = 256.\n",
    "    # Index = 0 - 255\n",
    "    x_min = 0\n",
    "    x_max = 255\n",
    "    x = (x - x_min)/(x_max - x_min)\n",
    "    x = np.array(x)\n",
    "    return x\n",
    "\n",
    "\n",
    "\"\"\"\n",
    "DON'T MODIFY ANYTHING IN THIS CELL THAT IS BELOW THIS LINE\n",
    "\"\"\"\n",
    "tests.test_normalize(normalize)"
   ]
  },
  {
   "cell_type": "markdown",
   "metadata": {},
   "source": [
    "### One-hot encode\n",
    "Just like the previous code cell, you'll be implementing a function for preprocessing.  This time, you'll implement the `one_hot_encode` function. The input, `x`, are a list of labels.  Implement the function to return the list of labels as One-Hot encoded Numpy array.  The possible values for labels are 0 to 9. The one-hot encoding function should return the same encoding for each value between each call to `one_hot_encode`.  Make sure to save the map of encodings outside the function.\n",
    "\n",
    "Hint: Don't reinvent the wheel."
   ]
  },
  {
   "cell_type": "code",
   "execution_count": 4,
   "metadata": {
    "collapsed": false
   },
   "outputs": [
    {
     "name": "stdout",
     "output_type": "stream",
     "text": [
      "Tests Passed\n"
     ]
    }
   ],
   "source": [
    "from sklearn import preprocessing\n",
    "import numpy as np\n",
    "\n",
    "mapped = preprocessing.LabelBinarizer().fit_transform([i for i in range(10)])\n",
    "\n",
    "def one_hot_encode(x):\n",
    "    \"\"\"\n",
    "    One hot encode a list of sample labels. Return a one-hot encoded vector for each label.\n",
    "    : x: List of sample Labels\n",
    "    : return: Numpy array of one-hot encoded labels\n",
    "    \"\"\"\n",
    "    # TODO: Implement Function\n",
    "    return np.array([mapped[i] for i in x])\n",
    "\n",
    "\"\"\"\n",
    "DON'T MODIFY ANYTHING IN THIS CELL THAT IS BELOW THIS LINE\n",
    "\"\"\"\n",
    "tests.test_one_hot_encode(one_hot_encode)"
   ]
  },
  {
   "cell_type": "markdown",
   "metadata": {},
   "source": [
    "### Randomize Data\n",
    "As you saw from exploring the data above, the order of the samples are randomized.  It doesn't hurt to randomize it again, but you don't need to for this dataset."
   ]
  },
  {
   "cell_type": "markdown",
   "metadata": {},
   "source": [
    "## Preprocess all the data and save it\n",
    "Running the code cell below will preprocess all the CIFAR-10 data and save it to file. The code below also uses 10% of the training data for validation."
   ]
  },
  {
   "cell_type": "code",
   "execution_count": 5,
   "metadata": {
    "collapsed": false
   },
   "outputs": [],
   "source": [
    "\"\"\"\n",
    "DON'T MODIFY ANYTHING IN THIS CELL\n",
    "\"\"\"\n",
    "# Preprocess Training, Validation, and Testing Data\n",
    "helper.preprocess_and_save_data(cifar10_dataset_folder_path, normalize, one_hot_encode)"
   ]
  },
  {
   "cell_type": "markdown",
   "metadata": {},
   "source": [
    "# Check Point\n",
    "This is your first checkpoint.  If you ever decide to come back to this notebook or have to restart the notebook, you can start from here.  The preprocessed data has been saved to disk."
   ]
  },
  {
   "cell_type": "code",
   "execution_count": 6,
   "metadata": {
    "collapsed": true
   },
   "outputs": [],
   "source": [
    "\"\"\"\n",
    "DON'T MODIFY ANYTHING IN THIS CELL\n",
    "\"\"\"\n",
    "import pickle\n",
    "import problem_unittests as tests\n",
    "import helper\n",
    "\n",
    "# Load the Preprocessed Validation data\n",
    "valid_features, valid_labels = pickle.load(open('preprocess_validation.p', mode='rb'))"
   ]
  },
  {
   "cell_type": "markdown",
   "metadata": {},
   "source": [
    "## Build the network\n",
    "For the neural network, you'll build each layer into a function.  Most of the code you've seen has been outside of functions. To test your code more thoroughly, we require that you put each layer in a function.  This allows us to give you better feedback and test for simple mistakes using our unittests before you submit your project.\n",
    "\n",
    ">**Note:** If you're finding it hard to dedicate enough time for this course each week, we've provided a small shortcut to this part of the project. In the next couple of problems, you'll have the option to use classes from the [TensorFlow Layers](https://www.tensorflow.org/api_docs/python/tf/layers) or [TensorFlow Layers (contrib)](https://www.tensorflow.org/api_guides/python/contrib.layers) packages to build each layer, except the layers you build in the \"Convolutional and Max Pooling Layer\" section.  TF Layers is similar to Keras's and TFLearn's abstraction to layers, so it's easy to pickup.\n",
    "\n",
    ">However, if you would like to get the most out of this course, try to solve all the problems _without_ using anything from the TF Layers packages. You **can** still use classes from other packages that happen to have the same name as ones you find in TF Layers! For example, instead of using the TF Layers version of the `conv2d` class, [tf.layers.conv2d](https://www.tensorflow.org/api_docs/python/tf/layers/conv2d), you would want to use the TF Neural Network version of `conv2d`, [tf.nn.conv2d](https://www.tensorflow.org/api_docs/python/tf/nn/conv2d). \n",
    "\n",
    "Let's begin!\n",
    "\n",
    "### Input\n",
    "The neural network needs to read the image data, one-hot encoded labels, and dropout keep probability. Implement the following functions\n",
    "* Implement `neural_net_image_input`\n",
    " * Return a [TF Placeholder](https://www.tensorflow.org/api_docs/python/tf/placeholder)\n",
    " * Set the shape using `image_shape` with batch size set to `None`.\n",
    " * Name the TensorFlow placeholder \"x\" using the TensorFlow `name` parameter in the [TF Placeholder](https://www.tensorflow.org/api_docs/python/tf/placeholder).\n",
    "* Implement `neural_net_label_input`\n",
    " * Return a [TF Placeholder](https://www.tensorflow.org/api_docs/python/tf/placeholder)\n",
    " * Set the shape using `n_classes` with batch size set to `None`.\n",
    " * Name the TensorFlow placeholder \"y\" using the TensorFlow `name` parameter in the [TF Placeholder](https://www.tensorflow.org/api_docs/python/tf/placeholder).\n",
    "* Implement `neural_net_keep_prob_input`\n",
    " * Return a [TF Placeholder](https://www.tensorflow.org/api_docs/python/tf/placeholder) for dropout keep probability.\n",
    " * Name the TensorFlow placeholder \"keep_prob\" using the TensorFlow `name` parameter in the [TF Placeholder](https://www.tensorflow.org/api_docs/python/tf/placeholder).\n",
    "\n",
    "These names will be used at the end of the project to load your saved model.\n",
    "\n",
    "Note: `None` for shapes in TensorFlow allow for a dynamic size."
   ]
  },
  {
   "cell_type": "code",
   "execution_count": 7,
   "metadata": {
    "collapsed": false
   },
   "outputs": [
    {
     "name": "stdout",
     "output_type": "stream",
     "text": [
      "Image Input Tests Passed.\n",
      "Label Input Tests Passed.\n",
      "Keep Prob Tests Passed.\n"
     ]
    }
   ],
   "source": [
    "import tensorflow as tf\n",
    "\n",
    "def neural_net_image_input(image_shape):\n",
    "    \"\"\"\n",
    "    Return a Tensor for a bach of image input\n",
    "    : image_shape: Shape of the images\n",
    "    : return: Tensor for image input.\n",
    "    \"\"\"\n",
    "    # TODO: Implement Function\n",
    "    x = tf.placeholder(tf.float32, np.append(None, image_shape), name = \"x\")\n",
    "    return x\n",
    "\n",
    "\n",
    "def neural_net_label_input(n_classes):\n",
    "    \"\"\"\n",
    "    Return a Tensor for a batch of label input\n",
    "    : n_classes: Number of classes\n",
    "    : return: Tensor for label input.\n",
    "    \"\"\"\n",
    "    # TODO: Implement Function\n",
    "    y = tf.placeholder(tf.float32, [None, n_classes], name = \"y\")\n",
    "    return y\n",
    "\n",
    "\n",
    "def neural_net_keep_prob_input():\n",
    "    \"\"\"\n",
    "    Return a Tensor for keep probability\n",
    "    : return: Tensor for keep probability.\n",
    "    \"\"\"\n",
    "    # TODO: Implement Function\n",
    "    keep_prob = tf.placeholder(tf.float32, name = \"keep_prob\")\n",
    "    return keep_prob\n",
    "\n",
    "\n",
    "\"\"\"\n",
    "DON'T MODIFY ANYTHING IN THIS CELL THAT IS BELOW THIS LINE\n",
    "\"\"\"\n",
    "tf.reset_default_graph()\n",
    "tests.test_nn_image_inputs(neural_net_image_input)\n",
    "tests.test_nn_label_inputs(neural_net_label_input)\n",
    "tests.test_nn_keep_prob_inputs(neural_net_keep_prob_input)"
   ]
  },
  {
   "cell_type": "markdown",
   "metadata": {},
   "source": [
    "### Convolution and Max Pooling Layer\n",
    "Convolution layers have a lot of success with images. For this code cell, you should implement the function `conv2d_maxpool` to apply convolution then max pooling:\n",
    "* Create the weight and bias using `conv_ksize`, `conv_num_outputs` and the shape of `x_tensor`.\n",
    "* Apply a convolution to `x_tensor` using weight and `conv_strides`.\n",
    " * We recommend you use same padding, but you're welcome to use any padding.\n",
    "* Add bias\n",
    "* Add a nonlinear activation to the convolution.\n",
    "* Apply Max Pooling using `pool_ksize` and `pool_strides`.\n",
    " * We recommend you use same padding, but you're welcome to use any padding.\n",
    "\n",
    "**Note:** You **can't** use [TensorFlow Layers](https://www.tensorflow.org/api_docs/python/tf/layers) or [TensorFlow Layers (contrib)](https://www.tensorflow.org/api_guides/python/contrib.layers) for **this** layer, but you can still use TensorFlow's [Neural Network](https://www.tensorflow.org/api_docs/python/tf/nn) package. You may still use the shortcut option for all the **other** layers."
   ]
  },
  {
   "cell_type": "code",
   "execution_count": 8,
   "metadata": {
    "collapsed": false
   },
   "outputs": [
    {
     "name": "stdout",
     "output_type": "stream",
     "text": [
      "Tests Passed\n"
     ]
    }
   ],
   "source": [
    "def conv2d_maxpool(x_tensor, conv_num_outputs, conv_ksize, conv_strides, pool_ksize, pool_strides):\n",
    "    \"\"\"\n",
    "    Apply convolution then max pooling to x_tensor\n",
    "    :param x_tensor: TensorFlow Tensor\n",
    "    :param conv_num_outputs: Number of outputs for the convolutional layer\n",
    "    :param conv_ksize: kernal size 2-D Tuple for the convolutional layer\n",
    "    :param conv_strides: Stride 2-D Tuple for convolution\n",
    "    :param pool_ksize: kernal size 2-D Tuple for pool\n",
    "    :param pool_strides: Stride 2-D Tuple for pool\n",
    "    : return: A tensor that represents convolution and max pooling of x_tensor\n",
    "    \"\"\"\n",
    "    # TODO: Implement Function\n",
    "    input_depth = x_tensor.get_shape().as_list()[3]\n",
    "    F_w = tf.Variable(tf.truncated_normal([conv_ksize[0], conv_ksize[1], input_depth, conv_num_outputs], \n",
    "                                          mean = 0.0, stddev = 0.01, dtype = tf.float32, seed = None, name = None))    \n",
    "    F_b = tf.Variable(tf.zeros(conv_num_outputs))\n",
    "    strides = [1, conv_strides[0], conv_strides[1], 1]\n",
    "    padding = 'SAME'\n",
    "    x = tf.nn.conv2d(x_tensor, F_w, strides, padding)\n",
    "    x = tf.nn.bias_add(x, F_b)\n",
    "    x = tf.nn.relu(x)\n",
    "    p_ksize = [1, pool_ksize[0], pool_ksize[1], 1]\n",
    "    p_strides = [1, pool_strides[0], pool_strides[1], 1]\n",
    "    padding = 'SAME'\n",
    "    x = tf.nn.max_pool(x, p_ksize, p_strides, padding)\n",
    "    return x\n",
    "\n",
    "\"\"\"\n",
    "DON'T MODIFY ANYTHING IN THIS CELL THAT IS BELOW THIS LINE\n",
    "\"\"\"\n",
    "tests.test_con_pool(conv2d_maxpool)"
   ]
  },
  {
   "cell_type": "markdown",
   "metadata": {},
   "source": [
    "### Flatten Layer\n",
    "Implement the `flatten` function to change the dimension of `x_tensor` from a 4-D tensor to a 2-D tensor.  The output should be the shape (*Batch Size*, *Flattened Image Size*). Shortcut option: you can use classes from the [TensorFlow Layers](https://www.tensorflow.org/api_docs/python/tf/layers) or [TensorFlow Layers (contrib)](https://www.tensorflow.org/api_guides/python/contrib.layers) packages for this layer. For more of a challenge, only use other TensorFlow packages."
   ]
  },
  {
   "cell_type": "code",
   "execution_count": 9,
   "metadata": {
    "collapsed": false
   },
   "outputs": [
    {
     "name": "stdout",
     "output_type": "stream",
     "text": [
      "Tests Passed\n"
     ]
    }
   ],
   "source": [
    "def flatten(x_tensor):\n",
    "    \"\"\"\n",
    "    Flatten x_tensor to (Batch Size, Flattened Image Size)\n",
    "    : x_tensor: A tensor of size (Batch Size, ...), where ... are the image dimensions.\n",
    "    : return: A tensor of size (Batch Size, Flattened Image Size).\n",
    "    \"\"\"\n",
    "    # TODO: Implement Function\n",
    "    x_tensor_shape = x_tensor.get_shape()\n",
    "    num_features = x_tensor_shape[1:4].num_elements()\n",
    "    x_tensor_flat = tf.reshape(x_tensor, [-1, num_features])\n",
    "    return x_tensor_flat\n",
    "    \n",
    "\"\"\"\n",
    "DON'T MODIFY ANYTHING IN THIS CELL THAT IS BELOW THIS LINE\n",
    "\"\"\"\n",
    "tests.test_flatten(flatten)"
   ]
  },
  {
   "cell_type": "markdown",
   "metadata": {},
   "source": [
    "### Fully-Connected Layer\n",
    "Implement the `fully_conn` function to apply a fully connected layer to `x_tensor` with the shape (*Batch Size*, *num_outputs*). Shortcut option: you can use classes from the [TensorFlow Layers](https://www.tensorflow.org/api_docs/python/tf/layers) or [TensorFlow Layers (contrib)](https://www.tensorflow.org/api_guides/python/contrib.layers) packages for this layer. For more of a challenge, only use other TensorFlow packages."
   ]
  },
  {
   "cell_type": "code",
   "execution_count": 10,
   "metadata": {
    "collapsed": false
   },
   "outputs": [
    {
     "name": "stdout",
     "output_type": "stream",
     "text": [
      "Tests Passed\n"
     ]
    }
   ],
   "source": [
    "def new_weights(shape):\n",
    "    return tf.Variable(tf.truncated_normal(shape, stddev = 0.05))\n",
    "def new_biases(length):\n",
    "    return tf.Variable(tf.constant(0.05, shape = [length]))\n",
    "\n",
    "\n",
    "def fully_conn(x_tensor, num_outputs):\n",
    "    \"\"\"\n",
    "    Apply a fully connected layer to x_tensor using weight and bias\n",
    "    : x_tensor: A 2-D tensor where the first dimension is batch size.\n",
    "    : num_outputs: The number of output that the new tensor should be.\n",
    "    : return: A 2-D tensor where the second dimension is num_outputs.\n",
    "    \"\"\"\n",
    "    # TODO: Implement Function\n",
    "    num_inputs = x_tensor.get_shape().as_list()[1]\n",
    "    \n",
    "    weights = new_weights(shape = [num_inputs, num_outputs])\n",
    "    biases = new_biases(length= num_outputs)\n",
    "    \n",
    "    x = tf.matmul(x_tensor, weights) + biases\n",
    "    \n",
    "    x = tf.nn.relu(x)\n",
    "    return x\n",
    "\n",
    "\n",
    "\"\"\"\n",
    "DON'T MODIFY ANYTHING IN THIS CELL THAT IS BELOW THIS LINE\n",
    "\"\"\"\n",
    "tests.test_fully_conn(fully_conn)"
   ]
  },
  {
   "cell_type": "markdown",
   "metadata": {},
   "source": [
    "### Output Layer\n",
    "Implement the `output` function to apply a fully connected layer to `x_tensor` with the shape (*Batch Size*, *num_outputs*). Shortcut option: you can use classes from the [TensorFlow Layers](https://www.tensorflow.org/api_docs/python/tf/layers) or [TensorFlow Layers (contrib)](https://www.tensorflow.org/api_guides/python/contrib.layers) packages for this layer. For more of a challenge, only use other TensorFlow packages.\n",
    "\n",
    "**Note:** Activation, softmax, or cross entropy should **not** be applied to this."
   ]
  },
  {
   "cell_type": "code",
   "execution_count": 11,
   "metadata": {
    "collapsed": false
   },
   "outputs": [
    {
     "name": "stdout",
     "output_type": "stream",
     "text": [
      "Tests Passed\n"
     ]
    }
   ],
   "source": [
    "def output(x_tensor, num_outputs):\n",
    "    \"\"\"\n",
    "    Apply a output layer to x_tensor using weight and bias\n",
    "    : x_tensor: A 2-D tensor where the first dimension is batch size.\n",
    "    : num_outputs: The number of output that the new tensor should be.\n",
    "    : return: A 2-D tensor where the second dimension is num_outputs.\n",
    "    \"\"\"\n",
    "    # TODO: Implement Function\n",
    "    num_inputs = x_tensor.get_shape().as_list()[1]\n",
    "    \n",
    "    weights = new_weights(shape = [num_inputs, num_outputs])\n",
    "    biases = new_biases(length= num_outputs)\n",
    "    \n",
    "    x = tf.matmul(x_tensor, weights) + biases\n",
    "    return x\n",
    "\n",
    "\n",
    "\"\"\"\n",
    "DON'T MODIFY ANYTHING IN THIS CELL THAT IS BELOW THIS LINE\n",
    "\"\"\"\n",
    "tests.test_output(output)"
   ]
  },
  {
   "cell_type": "markdown",
   "metadata": {},
   "source": [
    "### Create Convolutional Model\n",
    "Implement the function `conv_net` to create a convolutional neural network model. The function takes in a batch of images, `x`, and outputs, logits.  Use the layers you created above to create this model:\n",
    "\n",
    "* Apply 1, 2, or 3 Convolution and Max Pool layers\n",
    "* Apply a Flatten Layer\n",
    "* Apply 1, 2, or 3 Fully Connected Layers\n",
    "* Apply an Output Layer\n",
    "* Return the output\n",
    "* Apply [TensorFlow's Dropout](https://www.tensorflow.org/api_docs/python/tf/nn/dropout) to one or more layers in the model using `keep_prob`. "
   ]
  },
  {
   "cell_type": "code",
   "execution_count": 37,
   "metadata": {
    "collapsed": false
   },
   "outputs": [
    {
     "name": "stdout",
     "output_type": "stream",
     "text": [
      "Neural Network Built!\n"
     ]
    }
   ],
   "source": [
    "def conv_net(x, keep_prob):\n",
    "    \"\"\"\n",
    "    Create a convolutional neural network model\n",
    "    : x: Placeholder tensor that holds image data.\n",
    "    : keep_prob: Placeholder tensor that hold dropout keep probability.\n",
    "    : return: Tensor that represents logits\n",
    "    \"\"\"\n",
    "    \n",
    "    # TODO: Apply 1, 2, or 3 Convolution and Max Pool layers\n",
    "    #    Play around with different number of outputs, kernel size and stride\n",
    "    # Function Definition from Above:\n",
    "    # conv2d_maxpool(x_tensor, conv_num_outputs, conv_ksize, conv_strides, pool_ksize, pool_strides)\n",
    "    \n",
    "    # conv2d_maxpool- 1\n",
    "    # conv_num_outputs\n",
    "    conv_num_outputs = 8 * 3\n",
    "    # conv_ksize\n",
    "    conv_ksize = (5,5)\n",
    "    # conv_strides\n",
    "    conv_strides = (1,1)\n",
    "    # pool_ksize\n",
    "    pool_ksize = (2,2)\n",
    "    # pool_strides\n",
    "    pool_strides = (2,2)\n",
    "    conv_max1 = conv2d_maxpool(x, conv_num_outputs, conv_ksize, conv_strides, pool_ksize, pool_strides)\n",
    "    \n",
    "    # conv2d_maxpool- 2\n",
    "    # conv_num_outputs\n",
    "    conv_num_outputs = 16 * 3\n",
    "    # conv_ksize\n",
    "    conv_ksize = (3,3)\n",
    "    # conv_strides\n",
    "    conv_strides = (1,1)\n",
    "    # pool_ksize\n",
    "    pool_ksize = (2,2)\n",
    "    # pool_strides\n",
    "    pool_strides = (2,2)\n",
    "    conv_max2 = conv2d_maxpool(conv_max1, conv_num_outputs, conv_ksize, conv_strides, pool_ksize, pool_strides)\n",
    "       \n",
    "    # conv2d_maxpool- 3\n",
    "    # conv_num_outputs\n",
    "    conv_num_outputs = 32 * 3\n",
    "    # conv_ksize\n",
    "    conv_ksize = (2,2)\n",
    "    # conv_strides\n",
    "    conv_strides = (1,1)\n",
    "    # pool_ksize\n",
    "    pool_ksize = (2,2)\n",
    "    # pool_strides\n",
    "    pool_strides = (2,2)\n",
    "    conv_max3 = conv2d_maxpool(conv_max2, conv_num_outputs, conv_ksize, conv_strides, pool_ksize, pool_strides)\n",
    "    \n",
    "    # TODO: Apply a Flatten Layer\n",
    "    # Function Definition from Above:\n",
    "    # flatten(x_tensor)\n",
    "    flat = flatten(conv_max3)\n",
    "    \n",
    "\n",
    "    # TODO: Apply 1, 2, or 3 Fully Connected Layers\n",
    "    #    Play around with different number of outputs\n",
    "    # Function Definition from Above:\n",
    "    # fully_conn(x_tensor, num_outputs)\n",
    "    f_conn1 = fully_conn(flat, 1024)\n",
    "    dropout_conn1 = tf.nn.dropout(f_conn1, keep_prob)\n",
    "    f_conn2 = fully_conn(dropout_conn1, 512)\n",
    "    dropout_conn2 = tf.nn.dropout(f_conn2, keep_prob)\n",
    "    f_conn3 = fully_conn(dropout_conn2, 512)\n",
    "        \n",
    "    # TODO: Apply an Output Layer\n",
    "    #    Set this to the number of classes\n",
    "    # Function Definition from Above:\n",
    "    # output(x_tensor, num_outputs)\n",
    "    output_l = output(f_conn3, 10)\n",
    "    \n",
    "    # TODO: return output\n",
    "    return output_l\n",
    "\n",
    "\n",
    "\"\"\"\n",
    "DON'T MODIFY ANYTHING IN THIS CELL THAT IS BELOW THIS LINE\n",
    "\"\"\"\n",
    "\n",
    "##############################\n",
    "## Build the Neural Network ##\n",
    "##############################\n",
    "\n",
    "# Remove previous weights, bias, inputs, etc..\n",
    "tf.reset_default_graph()\n",
    "\n",
    "# Inputs\n",
    "x = neural_net_image_input((32, 32, 3))\n",
    "y = neural_net_label_input(10)\n",
    "keep_prob = neural_net_keep_prob_input()\n",
    "\n",
    "# Model\n",
    "logits = conv_net(x, keep_prob)\n",
    "\n",
    "# Name logits Tensor, so that is can be loaded from disk after training\n",
    "logits = tf.identity(logits, name='logits')\n",
    "\n",
    "# Loss and Optimizer\n",
    "cost = tf.reduce_mean(tf.nn.softmax_cross_entropy_with_logits(logits=logits, labels=y))\n",
    "optimizer = tf.train.AdamOptimizer().minimize(cost)\n",
    "\n",
    "# Accuracy\n",
    "correct_pred = tf.equal(tf.argmax(logits, 1), tf.argmax(y, 1))\n",
    "accuracy = tf.reduce_mean(tf.cast(correct_pred, tf.float32), name='accuracy')\n",
    "\n",
    "tests.test_conv_net(conv_net)"
   ]
  },
  {
   "cell_type": "markdown",
   "metadata": {},
   "source": [
    "## Train the Neural Network\n",
    "### Single Optimization\n",
    "Implement the function `train_neural_network` to do a single optimization.  The optimization should use `optimizer` to optimize in `session` with a `feed_dict` of the following:\n",
    "* `x` for image input\n",
    "* `y` for labels\n",
    "* `keep_prob` for keep probability for dropout\n",
    "\n",
    "This function will be called for each batch, so `tf.global_variables_initializer()` has already been called.\n",
    "\n",
    "Note: Nothing needs to be returned. This function is only optimizing the neural network."
   ]
  },
  {
   "cell_type": "code",
   "execution_count": 38,
   "metadata": {
    "collapsed": false
   },
   "outputs": [
    {
     "name": "stdout",
     "output_type": "stream",
     "text": [
      "Tests Passed\n"
     ]
    }
   ],
   "source": [
    "def train_neural_network(session, optimizer, keep_probability, feature_batch, label_batch):\n",
    "    \"\"\"\n",
    "    Optimize the session on a batch of images and labels\n",
    "    : session: Current TensorFlow session\n",
    "    : optimizer: TensorFlow optimizer function\n",
    "    : keep_probability: keep probability\n",
    "    : feature_batch: Batch of Numpy image data\n",
    "    : label_batch: Batch of Numpy label data\n",
    "    \"\"\"\n",
    "    # TODO: Implement Function\n",
    "    session.run(optimizer, feed_dict = {x: feature_batch, y: label_batch, keep_prob: keep_probability})\n",
    "    pass\n",
    "\n",
    "\n",
    "\"\"\"\n",
    "DON'T MODIFY ANYTHING IN THIS CELL THAT IS BELOW THIS LINE\n",
    "\"\"\"\n",
    "tests.test_train_nn(train_neural_network)"
   ]
  },
  {
   "cell_type": "markdown",
   "metadata": {},
   "source": [
    "### Show Stats\n",
    "Implement the function `print_stats` to print loss and validation accuracy.  Use the global variables `valid_features` and `valid_labels` to calculate validation accuracy.  Use a keep probability of `1.0` to calculate the loss and validation accuracy."
   ]
  },
  {
   "cell_type": "code",
   "execution_count": 39,
   "metadata": {
    "collapsed": false
   },
   "outputs": [],
   "source": [
    "def print_stats(session, feature_batch, label_batch, cost, accuracy):\n",
    "    \"\"\"\n",
    "    Print information about loss and validation accuracy\n",
    "    : session: Current TensorFlow session\n",
    "    : feature_batch: Batch of Numpy image data\n",
    "    : label_batch: Batch of Numpy label data\n",
    "    : cost: TensorFlow cost function\n",
    "    : accuracy: TensorFlow accuracy function\n",
    "    \"\"\"\n",
    "    # TODO: Implement Function\n",
    "    loss = session.run(cost, feed_dict={x: feature_batch, y: label_batch, keep_prob: 1.0})\n",
    "    valid_acc = session.run(accuracy, feed_dict={x: valid_features, y: valid_labels, keep_prob: 1.0})\n",
    "    print('Loss: {}, Validation Accuracy: {}'.format(loss, valid_acc))\n",
    "    "
   ]
  },
  {
   "cell_type": "markdown",
   "metadata": {},
   "source": [
    "### Hyperparameters\n",
    "Tune the following parameters:\n",
    "* Set `epochs` to the number of iterations until the network stops learning or start overfitting\n",
    "* Set `batch_size` to the highest number that your machine has memory for.  Most people set them to common sizes of memory:\n",
    " * 64\n",
    " * 128\n",
    " * 256\n",
    " * ...\n",
    "* Set `keep_probability` to the probability of keeping a node using dropout"
   ]
  },
  {
   "cell_type": "code",
   "execution_count": 45,
   "metadata": {
    "collapsed": true
   },
   "outputs": [],
   "source": [
    "# TODO: Tune Parameters\n",
    "epochs = 30\n",
    "batch_size = 256\n",
    "keep_probability = 0.5"
   ]
  },
  {
   "cell_type": "markdown",
   "metadata": {},
   "source": [
    "### Train on a Single CIFAR-10 Batch\n",
    "Instead of training the neural network on all the CIFAR-10 batches of data, let's use a single batch. This should save time while you iterate on the model to get a better accuracy.  Once the final validation accuracy is 50% or greater, run the model on all the data in the next section."
   ]
  },
  {
   "cell_type": "code",
   "execution_count": 46,
   "metadata": {
    "collapsed": false
   },
   "outputs": [
    {
     "name": "stdout",
     "output_type": "stream",
     "text": [
      "Checking the Training on a Single Batch...\n",
      "Epoch  1, CIFAR-10 Batch 1:  Loss: 2.2479851245880127, Validation Accuracy: 0.17479999363422394\n",
      "Epoch  2, CIFAR-10 Batch 1:  Loss: 2.164409875869751, Validation Accuracy: 0.23360000550746918\n",
      "Epoch  3, CIFAR-10 Batch 1:  Loss: 2.1390068531036377, Validation Accuracy: 0.2685999870300293\n",
      "Epoch  4, CIFAR-10 Batch 1:  Loss: 2.076223373413086, Validation Accuracy: 0.3012000024318695\n",
      "Epoch  5, CIFAR-10 Batch 1:  Loss: 2.0331358909606934, Validation Accuracy: 0.33379998803138733\n",
      "Epoch  6, CIFAR-10 Batch 1:  Loss: 1.8926193714141846, Validation Accuracy: 0.3691999912261963\n",
      "Epoch  7, CIFAR-10 Batch 1:  Loss: 1.7777702808380127, Validation Accuracy: 0.3946000039577484\n",
      "Epoch  8, CIFAR-10 Batch 1:  Loss: 1.6847327947616577, Validation Accuracy: 0.39820000529289246\n",
      "Epoch  9, CIFAR-10 Batch 1:  Loss: 1.5677088499069214, Validation Accuracy: 0.4174000024795532\n",
      "Epoch 10, CIFAR-10 Batch 1:  Loss: 1.5154414176940918, Validation Accuracy: 0.4438000023365021\n",
      "Epoch 11, CIFAR-10 Batch 1:  Loss: 1.437726378440857, Validation Accuracy: 0.4472000002861023\n",
      "Epoch 12, CIFAR-10 Batch 1:  Loss: 1.4034172296524048, Validation Accuracy: 0.4456000030040741\n",
      "Epoch 13, CIFAR-10 Batch 1:  Loss: 1.3359180688858032, Validation Accuracy: 0.4596000015735626\n",
      "Epoch 14, CIFAR-10 Batch 1:  Loss: 1.266542673110962, Validation Accuracy: 0.45660001039505005\n",
      "Epoch 15, CIFAR-10 Batch 1:  Loss: 1.1579837799072266, Validation Accuracy: 0.46459999680519104\n",
      "Epoch 16, CIFAR-10 Batch 1:  Loss: 1.0731279850006104, Validation Accuracy: 0.4763999879360199\n",
      "Epoch 17, CIFAR-10 Batch 1:  Loss: 1.0011990070343018, Validation Accuracy: 0.4781999886035919\n",
      "Epoch 18, CIFAR-10 Batch 1:  Loss: 0.9686548113822937, Validation Accuracy: 0.48919999599456787\n",
      "Epoch 19, CIFAR-10 Batch 1:  Loss: 0.898558497428894, Validation Accuracy: 0.5037999749183655\n",
      "Epoch 20, CIFAR-10 Batch 1:  Loss: 0.80241858959198, Validation Accuracy: 0.5059999823570251\n",
      "Epoch 21, CIFAR-10 Batch 1:  Loss: 0.6824906468391418, Validation Accuracy: 0.5058000087738037\n",
      "Epoch 22, CIFAR-10 Batch 1:  Loss: 0.6441337466239929, Validation Accuracy: 0.5058000087738037\n",
      "Epoch 23, CIFAR-10 Batch 1:  Loss: 0.593849778175354, Validation Accuracy: 0.5235999822616577\n",
      "Epoch 24, CIFAR-10 Batch 1:  Loss: 0.5584543943405151, Validation Accuracy: 0.5175999999046326\n",
      "Epoch 25, CIFAR-10 Batch 1:  Loss: 0.41956549882888794, Validation Accuracy: 0.5234000086784363\n",
      "Epoch 26, CIFAR-10 Batch 1:  Loss: 0.42723432183265686, Validation Accuracy: 0.5303999781608582\n",
      "Epoch 27, CIFAR-10 Batch 1:  Loss: 0.3677133619785309, Validation Accuracy: 0.5361999869346619\n",
      "Epoch 28, CIFAR-10 Batch 1:  Loss: 0.30187591910362244, Validation Accuracy: 0.5396000146865845\n",
      "Epoch 29, CIFAR-10 Batch 1:  Loss: 0.2661410868167877, Validation Accuracy: 0.5424000024795532\n",
      "Epoch 30, CIFAR-10 Batch 1:  Loss: 0.21022534370422363, Validation Accuracy: 0.5437999963760376\n"
     ]
    }
   ],
   "source": [
    "\"\"\"\n",
    "DON'T MODIFY ANYTHING IN THIS CELL\n",
    "\"\"\"\n",
    "print('Checking the Training on a Single Batch...')\n",
    "with tf.Session() as sess:\n",
    "    # Initializing the variables\n",
    "    sess.run(tf.global_variables_initializer())\n",
    "    \n",
    "    # Training cycle\n",
    "    for epoch in range(epochs):\n",
    "        batch_i = 1\n",
    "        for batch_features, batch_labels in helper.load_preprocess_training_batch(batch_i, batch_size):\n",
    "            train_neural_network(sess, optimizer, keep_probability, batch_features, batch_labels)\n",
    "        print('Epoch {:>2}, CIFAR-10 Batch {}:  '.format(epoch + 1, batch_i), end='')\n",
    "        print_stats(sess, batch_features, batch_labels, cost, accuracy)"
   ]
  },
  {
   "cell_type": "markdown",
   "metadata": {},
   "source": [
    "### Fully Train the Model\n",
    "Now that you got a good accuracy with a single CIFAR-10 batch, try it with all five batches."
   ]
  },
  {
   "cell_type": "code",
   "execution_count": 47,
   "metadata": {
    "collapsed": false
   },
   "outputs": [
    {
     "name": "stdout",
     "output_type": "stream",
     "text": [
      "Training...\n",
      "Epoch  1, CIFAR-10 Batch 1:  Loss: 2.1389031410217285, Validation Accuracy: 0.20280000567436218\n",
      "Epoch  1, CIFAR-10 Batch 2:  Loss: 2.058332920074463, Validation Accuracy: 0.26440000534057617\n",
      "Epoch  1, CIFAR-10 Batch 3:  Loss: 1.804317831993103, Validation Accuracy: 0.2596000134944916\n",
      "Epoch  1, CIFAR-10 Batch 4:  Loss: 1.8783479928970337, Validation Accuracy: 0.29019999504089355\n",
      "Epoch  1, CIFAR-10 Batch 5:  Loss: 1.9772319793701172, Validation Accuracy: 0.30399999022483826\n",
      "Epoch  2, CIFAR-10 Batch 1:  Loss: 1.9823827743530273, Validation Accuracy: 0.3578000068664551\n",
      "Epoch  2, CIFAR-10 Batch 2:  Loss: 1.6149499416351318, Validation Accuracy: 0.3824000060558319\n",
      "Epoch  2, CIFAR-10 Batch 3:  Loss: 1.46919584274292, Validation Accuracy: 0.38960000872612\n",
      "Epoch  2, CIFAR-10 Batch 4:  Loss: 1.596459150314331, Validation Accuracy: 0.4230000078678131\n",
      "Epoch  2, CIFAR-10 Batch 5:  Loss: 1.7254745960235596, Validation Accuracy: 0.42719998955726624\n",
      "Epoch  3, CIFAR-10 Batch 1:  Loss: 1.5453779697418213, Validation Accuracy: 0.44359999895095825\n",
      "Epoch  3, CIFAR-10 Batch 2:  Loss: 1.4722061157226562, Validation Accuracy: 0.4528000056743622\n",
      "Epoch  3, CIFAR-10 Batch 3:  Loss: 1.223689317703247, Validation Accuracy: 0.45579999685287476\n",
      "Epoch  3, CIFAR-10 Batch 4:  Loss: 1.4828746318817139, Validation Accuracy: 0.4729999899864197\n",
      "Epoch  3, CIFAR-10 Batch 5:  Loss: 1.431626558303833, Validation Accuracy: 0.4805999994277954\n",
      "Epoch  4, CIFAR-10 Batch 1:  Loss: 1.365928292274475, Validation Accuracy: 0.47440001368522644\n",
      "Epoch  4, CIFAR-10 Batch 2:  Loss: 1.260474681854248, Validation Accuracy: 0.475600004196167\n",
      "Epoch  4, CIFAR-10 Batch 3:  Loss: 1.0583995580673218, Validation Accuracy: 0.48019999265670776\n",
      "Epoch  4, CIFAR-10 Batch 4:  Loss: 1.2836946249008179, Validation Accuracy: 0.5072000026702881\n",
      "Epoch  4, CIFAR-10 Batch 5:  Loss: 1.3071457147598267, Validation Accuracy: 0.5059999823570251\n",
      "Epoch  5, CIFAR-10 Batch 1:  Loss: 1.2311828136444092, Validation Accuracy: 0.5127999782562256\n",
      "Epoch  5, CIFAR-10 Batch 2:  Loss: 1.1358397006988525, Validation Accuracy: 0.5113999843597412\n",
      "Epoch  5, CIFAR-10 Batch 3:  Loss: 0.8972276449203491, Validation Accuracy: 0.5167999863624573\n",
      "Epoch  5, CIFAR-10 Batch 4:  Loss: 1.152077555656433, Validation Accuracy: 0.5356000065803528\n",
      "Epoch  5, CIFAR-10 Batch 5:  Loss: 1.0785613059997559, Validation Accuracy: 0.5357999801635742\n",
      "Epoch  6, CIFAR-10 Batch 1:  Loss: 1.1358413696289062, Validation Accuracy: 0.5332000255584717\n",
      "Epoch  6, CIFAR-10 Batch 2:  Loss: 0.9939346313476562, Validation Accuracy: 0.527400016784668\n",
      "Epoch  6, CIFAR-10 Batch 3:  Loss: 0.8072762489318848, Validation Accuracy: 0.5329999923706055\n",
      "Epoch  6, CIFAR-10 Batch 4:  Loss: 1.0576221942901611, Validation Accuracy: 0.550000011920929\n",
      "Epoch  6, CIFAR-10 Batch 5:  Loss: 0.9518281817436218, Validation Accuracy: 0.5529999732971191\n",
      "Epoch  7, CIFAR-10 Batch 1:  Loss: 0.9559928774833679, Validation Accuracy: 0.5546000003814697\n",
      "Epoch  7, CIFAR-10 Batch 2:  Loss: 0.9417222738265991, Validation Accuracy: 0.5410000085830688\n",
      "Epoch  7, CIFAR-10 Batch 3:  Loss: 0.6841624975204468, Validation Accuracy: 0.5540000200271606\n",
      "Epoch  7, CIFAR-10 Batch 4:  Loss: 0.9180267453193665, Validation Accuracy: 0.5685999989509583\n",
      "Epoch  7, CIFAR-10 Batch 5:  Loss: 0.8006221652030945, Validation Accuracy: 0.5690000057220459\n",
      "Epoch  8, CIFAR-10 Batch 1:  Loss: 0.8248397707939148, Validation Accuracy: 0.5795999765396118\n",
      "Epoch  8, CIFAR-10 Batch 2:  Loss: 0.7531442642211914, Validation Accuracy: 0.5734000205993652\n",
      "Epoch  8, CIFAR-10 Batch 3:  Loss: 0.5842505693435669, Validation Accuracy: 0.5807999968528748\n",
      "Epoch  8, CIFAR-10 Batch 4:  Loss: 0.9008687734603882, Validation Accuracy: 0.5812000036239624\n",
      "Epoch  8, CIFAR-10 Batch 5:  Loss: 0.6677876710891724, Validation Accuracy: 0.5853999853134155\n",
      "Epoch  9, CIFAR-10 Batch 1:  Loss: 0.7951208353042603, Validation Accuracy: 0.5825999975204468\n",
      "Epoch  9, CIFAR-10 Batch 2:  Loss: 0.713952898979187, Validation Accuracy: 0.5983999967575073\n",
      "Epoch  9, CIFAR-10 Batch 3:  Loss: 0.5301092863082886, Validation Accuracy: 0.5932000279426575\n",
      "Epoch  9, CIFAR-10 Batch 4:  Loss: 0.7475758790969849, Validation Accuracy: 0.6003999710083008\n",
      "Epoch  9, CIFAR-10 Batch 5:  Loss: 0.6040209531784058, Validation Accuracy: 0.5960000157356262\n",
      "Epoch 10, CIFAR-10 Batch 1:  Loss: 0.6165815591812134, Validation Accuracy: 0.5989999771118164\n",
      "Epoch 10, CIFAR-10 Batch 2:  Loss: 0.5736275911331177, Validation Accuracy: 0.599399983882904\n",
      "Epoch 10, CIFAR-10 Batch 3:  Loss: 0.429905503988266, Validation Accuracy: 0.6029999852180481\n",
      "Epoch 10, CIFAR-10 Batch 4:  Loss: 0.6612827777862549, Validation Accuracy: 0.6096000075340271\n",
      "Epoch 10, CIFAR-10 Batch 5:  Loss: 0.5587722063064575, Validation Accuracy: 0.6010000109672546\n",
      "Epoch 11, CIFAR-10 Batch 1:  Loss: 0.5378586053848267, Validation Accuracy: 0.6158000230789185\n",
      "Epoch 11, CIFAR-10 Batch 2:  Loss: 0.5025615692138672, Validation Accuracy: 0.6236000061035156\n",
      "Epoch 11, CIFAR-10 Batch 3:  Loss: 0.3669591546058655, Validation Accuracy: 0.6197999715805054\n",
      "Epoch 11, CIFAR-10 Batch 4:  Loss: 0.5659254789352417, Validation Accuracy: 0.6122000217437744\n",
      "Epoch 11, CIFAR-10 Batch 5:  Loss: 0.42355433106422424, Validation Accuracy: 0.604200005531311\n",
      "Epoch 12, CIFAR-10 Batch 1:  Loss: 0.5031940937042236, Validation Accuracy: 0.6060000061988831\n",
      "Epoch 12, CIFAR-10 Batch 2:  Loss: 0.43427056074142456, Validation Accuracy: 0.6150000095367432\n",
      "Epoch 12, CIFAR-10 Batch 3:  Loss: 0.37473711371421814, Validation Accuracy: 0.598800003528595\n",
      "Epoch 12, CIFAR-10 Batch 4:  Loss: 0.47807660698890686, Validation Accuracy: 0.6258000135421753\n",
      "Epoch 12, CIFAR-10 Batch 5:  Loss: 0.32697388529777527, Validation Accuracy: 0.6223999857902527\n",
      "Epoch 13, CIFAR-10 Batch 1:  Loss: 0.3795790374279022, Validation Accuracy: 0.6373999714851379\n",
      "Epoch 13, CIFAR-10 Batch 2:  Loss: 0.37484750151634216, Validation Accuracy: 0.6438000202178955\n",
      "Epoch 13, CIFAR-10 Batch 3:  Loss: 0.25935181975364685, Validation Accuracy: 0.6295999884605408\n",
      "Epoch 13, CIFAR-10 Batch 4:  Loss: 0.40694040060043335, Validation Accuracy: 0.6377999782562256\n",
      "Epoch 13, CIFAR-10 Batch 5:  Loss: 0.25248217582702637, Validation Accuracy: 0.6338000297546387\n",
      "Epoch 14, CIFAR-10 Batch 1:  Loss: 0.303039014339447, Validation Accuracy: 0.6430000066757202\n",
      "Epoch 14, CIFAR-10 Batch 2:  Loss: 0.35390913486480713, Validation Accuracy: 0.644599974155426\n",
      "Epoch 14, CIFAR-10 Batch 3:  Loss: 0.21807536482810974, Validation Accuracy: 0.6425999999046326\n",
      "Epoch 14, CIFAR-10 Batch 4:  Loss: 0.3723085820674896, Validation Accuracy: 0.6516000032424927\n",
      "Epoch 14, CIFAR-10 Batch 5:  Loss: 0.21283945441246033, Validation Accuracy: 0.6366000175476074\n",
      "Epoch 15, CIFAR-10 Batch 1:  Loss: 0.2499742954969406, Validation Accuracy: 0.6407999992370605\n",
      "Epoch 15, CIFAR-10 Batch 2:  Loss: 0.2829228937625885, Validation Accuracy: 0.652400016784668\n",
      "Epoch 15, CIFAR-10 Batch 3:  Loss: 0.2086251974105835, Validation Accuracy: 0.6431999802589417\n",
      "Epoch 15, CIFAR-10 Batch 4:  Loss: 0.29544252157211304, Validation Accuracy: 0.6543999910354614\n",
      "Epoch 15, CIFAR-10 Batch 5:  Loss: 0.19724735617637634, Validation Accuracy: 0.6345999836921692\n",
      "Epoch 16, CIFAR-10 Batch 1:  Loss: 0.252582848072052, Validation Accuracy: 0.629800021648407\n",
      "Epoch 16, CIFAR-10 Batch 2:  Loss: 0.25797075033187866, Validation Accuracy: 0.6484000086784363\n",
      "Epoch 16, CIFAR-10 Batch 3:  Loss: 0.19741502404212952, Validation Accuracy: 0.644599974155426\n",
      "Epoch 16, CIFAR-10 Batch 4:  Loss: 0.2607228457927704, Validation Accuracy: 0.6381999850273132\n",
      "Epoch 16, CIFAR-10 Batch 5:  Loss: 0.1597922146320343, Validation Accuracy: 0.6565999984741211\n",
      "Epoch 17, CIFAR-10 Batch 1:  Loss: 0.18737928569316864, Validation Accuracy: 0.6290000081062317\n",
      "Epoch 17, CIFAR-10 Batch 2:  Loss: 0.23448729515075684, Validation Accuracy: 0.652999997138977\n",
      "Epoch 17, CIFAR-10 Batch 3:  Loss: 0.18603657186031342, Validation Accuracy: 0.6358000040054321\n",
      "Epoch 17, CIFAR-10 Batch 4:  Loss: 0.23052000999450684, Validation Accuracy: 0.6448000073432922\n",
      "Epoch 17, CIFAR-10 Batch 5:  Loss: 0.12273280322551727, Validation Accuracy: 0.6531999707221985\n",
      "Epoch 18, CIFAR-10 Batch 1:  Loss: 0.1468438357114792, Validation Accuracy: 0.65420001745224\n",
      "Epoch 18, CIFAR-10 Batch 2:  Loss: 0.21404007077217102, Validation Accuracy: 0.6496000289916992\n",
      "Epoch 18, CIFAR-10 Batch 3:  Loss: 0.17584267258644104, Validation Accuracy: 0.6434000134468079\n",
      "Epoch 18, CIFAR-10 Batch 4:  Loss: 0.21626217663288116, Validation Accuracy: 0.6561999917030334\n",
      "Epoch 18, CIFAR-10 Batch 5:  Loss: 0.10925249755382538, Validation Accuracy: 0.6492000222206116\n",
      "Epoch 19, CIFAR-10 Batch 1:  Loss: 0.16721852123737335, Validation Accuracy: 0.6549999713897705\n",
      "Epoch 19, CIFAR-10 Batch 2:  Loss: 0.1649203598499298, Validation Accuracy: 0.6543999910354614\n",
      "Epoch 19, CIFAR-10 Batch 3:  Loss: 0.15009641647338867, Validation Accuracy: 0.652999997138977\n",
      "Epoch 19, CIFAR-10 Batch 4:  Loss: 0.17390640079975128, Validation Accuracy: 0.6715999841690063\n",
      "Epoch 19, CIFAR-10 Batch 5:  Loss: 0.08996733278036118, Validation Accuracy: 0.6538000106811523\n",
      "Epoch 20, CIFAR-10 Batch 1:  Loss: 0.12200019508600235, Validation Accuracy: 0.6574000120162964\n",
      "Epoch 20, CIFAR-10 Batch 2:  Loss: 0.14002764225006104, Validation Accuracy: 0.6618000268936157\n",
      "Epoch 20, CIFAR-10 Batch 3:  Loss: 0.12539765238761902, Validation Accuracy: 0.6711999773979187\n",
      "Epoch 20, CIFAR-10 Batch 4:  Loss: 0.17025668919086456, Validation Accuracy: 0.6700000166893005\n",
      "Epoch 20, CIFAR-10 Batch 5:  Loss: 0.08467169106006622, Validation Accuracy: 0.6579999923706055\n",
      "Epoch 21, CIFAR-10 Batch 1:  Loss: 0.11605246365070343, Validation Accuracy: 0.6579999923706055\n",
      "Epoch 21, CIFAR-10 Batch 2:  Loss: 0.1528395116329193, Validation Accuracy: 0.6502000093460083\n",
      "Epoch 21, CIFAR-10 Batch 3:  Loss: 0.09395278990268707, Validation Accuracy: 0.6678000092506409\n",
      "Epoch 21, CIFAR-10 Batch 4:  Loss: 0.15892115235328674, Validation Accuracy: 0.6588000059127808\n",
      "Epoch 21, CIFAR-10 Batch 5:  Loss: 0.07149781286716461, Validation Accuracy: 0.652400016784668\n",
      "Epoch 22, CIFAR-10 Batch 1:  Loss: 0.10003286600112915, Validation Accuracy: 0.6574000120162964\n",
      "Epoch 22, CIFAR-10 Batch 2:  Loss: 0.10348506271839142, Validation Accuracy: 0.6481999754905701\n",
      "Epoch 22, CIFAR-10 Batch 3:  Loss: 0.0867554098367691, Validation Accuracy: 0.6723999977111816\n",
      "Epoch 22, CIFAR-10 Batch 4:  Loss: 0.1287020742893219, Validation Accuracy: 0.6736000180244446\n",
      "Epoch 22, CIFAR-10 Batch 5:  Loss: 0.09201065450906754, Validation Accuracy: 0.6398000121116638\n",
      "Epoch 23, CIFAR-10 Batch 1:  Loss: 0.07821512222290039, Validation Accuracy: 0.657800018787384\n",
      "Epoch 23, CIFAR-10 Batch 2:  Loss: 0.10387227684259415, Validation Accuracy: 0.6481999754905701\n",
      "Epoch 23, CIFAR-10 Batch 3:  Loss: 0.09694993495941162, Validation Accuracy: 0.6650000214576721\n",
      "Epoch 23, CIFAR-10 Batch 4:  Loss: 0.12712493538856506, Validation Accuracy: 0.6669999957084656\n",
      "Epoch 23, CIFAR-10 Batch 5:  Loss: 0.07831529527902603, Validation Accuracy: 0.6520000100135803\n",
      "Epoch 24, CIFAR-10 Batch 1:  Loss: 0.07752273976802826, Validation Accuracy: 0.6607999801635742\n",
      "Epoch 24, CIFAR-10 Batch 2:  Loss: 0.0988653302192688, Validation Accuracy: 0.6507999897003174\n",
      "Epoch 24, CIFAR-10 Batch 3:  Loss: 0.09541193395853043, Validation Accuracy: 0.6438000202178955\n",
      "Epoch 24, CIFAR-10 Batch 4:  Loss: 0.13131359219551086, Validation Accuracy: 0.6711999773979187\n",
      "Epoch 24, CIFAR-10 Batch 5:  Loss: 0.07755530625581741, Validation Accuracy: 0.651199996471405\n",
      "Epoch 25, CIFAR-10 Batch 1:  Loss: 0.05858367681503296, Validation Accuracy: 0.6725999712944031\n",
      "Epoch 25, CIFAR-10 Batch 2:  Loss: 0.08060923218727112, Validation Accuracy: 0.6462000012397766\n",
      "Epoch 25, CIFAR-10 Batch 3:  Loss: 0.06158564239740372, Validation Accuracy: 0.6502000093460083\n",
      "Epoch 25, CIFAR-10 Batch 4:  Loss: 0.08604182302951813, Validation Accuracy: 0.6728000044822693\n",
      "Epoch 25, CIFAR-10 Batch 5:  Loss: 0.039102356880903244, Validation Accuracy: 0.6669999957084656\n",
      "Epoch 26, CIFAR-10 Batch 1:  Loss: 0.05674642324447632, Validation Accuracy: 0.6678000092506409\n",
      "Epoch 26, CIFAR-10 Batch 2:  Loss: 0.0682157576084137, Validation Accuracy: 0.635200023651123\n",
      "Epoch 26, CIFAR-10 Batch 3:  Loss: 0.07013154029846191, Validation Accuracy: 0.6466000080108643\n",
      "Epoch 26, CIFAR-10 Batch 4:  Loss: 0.06744986027479172, Validation Accuracy: 0.6758000254631042\n",
      "Epoch 26, CIFAR-10 Batch 5:  Loss: 0.045978087931871414, Validation Accuracy: 0.6657999753952026\n",
      "Epoch 27, CIFAR-10 Batch 1:  Loss: 0.04804878681898117, Validation Accuracy: 0.6765999794006348\n",
      "Epoch 27, CIFAR-10 Batch 2:  Loss: 0.07432352751493454, Validation Accuracy: 0.6317999958992004\n",
      "Epoch 27, CIFAR-10 Batch 3:  Loss: 0.07069756090641022, Validation Accuracy: 0.6650000214576721\n",
      "Epoch 27, CIFAR-10 Batch 4:  Loss: 0.06542760133743286, Validation Accuracy: 0.6797999739646912\n",
      "Epoch 27, CIFAR-10 Batch 5:  Loss: 0.041636060923337936, Validation Accuracy: 0.6625999808311462\n",
      "Epoch 28, CIFAR-10 Batch 1:  Loss: 0.04981977492570877, Validation Accuracy: 0.6607999801635742\n",
      "Epoch 28, CIFAR-10 Batch 2:  Loss: 0.05793391540646553, Validation Accuracy: 0.6561999917030334\n",
      "Epoch 28, CIFAR-10 Batch 3:  Loss: 0.0653008446097374, Validation Accuracy: 0.6624000072479248\n",
      "Epoch 28, CIFAR-10 Batch 4:  Loss: 0.05058077722787857, Validation Accuracy: 0.676800012588501\n",
      "Epoch 28, CIFAR-10 Batch 5:  Loss: 0.044881053268909454, Validation Accuracy: 0.6656000018119812\n",
      "Epoch 29, CIFAR-10 Batch 1:  Loss: 0.0363040566444397, Validation Accuracy: 0.6618000268936157\n",
      "Epoch 29, CIFAR-10 Batch 2:  Loss: 0.05018002912402153, Validation Accuracy: 0.646399974822998\n",
      "Epoch 29, CIFAR-10 Batch 3:  Loss: 0.07828391343355179, Validation Accuracy: 0.6601999998092651\n",
      "Epoch 29, CIFAR-10 Batch 4:  Loss: 0.04588568955659866, Validation Accuracy: 0.6777999997138977\n",
      "Epoch 29, CIFAR-10 Batch 5:  Loss: 0.029685502871870995, Validation Accuracy: 0.6732000112533569\n",
      "Epoch 30, CIFAR-10 Batch 1:  Loss: 0.03339160606265068, Validation Accuracy: 0.6700000166893005\n",
      "Epoch 30, CIFAR-10 Batch 2:  Loss: 0.062151361256837845, Validation Accuracy: 0.633400022983551\n",
      "Epoch 30, CIFAR-10 Batch 3:  Loss: 0.045956797897815704, Validation Accuracy: 0.6553999781608582\n",
      "Epoch 30, CIFAR-10 Batch 4:  Loss: 0.049350153654813766, Validation Accuracy: 0.6686000227928162\n",
      "Epoch 30, CIFAR-10 Batch 5:  Loss: 0.04876801371574402, Validation Accuracy: 0.6607999801635742\n"
     ]
    }
   ],
   "source": [
    "\"\"\"\n",
    "DON'T MODIFY ANYTHING IN THIS CELL\n",
    "\"\"\"\n",
    "save_model_path = './image_classification'\n",
    "\n",
    "print('Training...')\n",
    "with tf.Session() as sess:\n",
    "    # Initializing the variables\n",
    "    sess.run(tf.global_variables_initializer())\n",
    "    \n",
    "    # Training cycle\n",
    "    for epoch in range(epochs):\n",
    "        # Loop over all batches\n",
    "        n_batches = 5\n",
    "        for batch_i in range(1, n_batches + 1):\n",
    "            for batch_features, batch_labels in helper.load_preprocess_training_batch(batch_i, batch_size):\n",
    "                train_neural_network(sess, optimizer, keep_probability, batch_features, batch_labels)\n",
    "            print('Epoch {:>2}, CIFAR-10 Batch {}:  '.format(epoch + 1, batch_i), end='')\n",
    "            print_stats(sess, batch_features, batch_labels, cost, accuracy)\n",
    "            \n",
    "    # Save Model\n",
    "    saver = tf.train.Saver()\n",
    "    save_path = saver.save(sess, save_model_path)"
   ]
  },
  {
   "cell_type": "markdown",
   "metadata": {},
   "source": [
    "# Checkpoint\n",
    "The model has been saved to disk.\n",
    "## Test Model\n",
    "Test your model against the test dataset.  This will be your final accuracy. You should have an accuracy greater than 50%. If you don't, keep tweaking the model architecture and parameters."
   ]
  },
  {
   "cell_type": "code",
   "execution_count": 48,
   "metadata": {
    "collapsed": false
   },
   "outputs": [
    {
     "name": "stdout",
     "output_type": "stream",
     "text": [
      "Testing Accuracy: 0.64228515625\n",
      "\n"
     ]
    },
    {
     "data": {
      "image/png": "[encoded data removed]",
      "text/plain": [
       "<matplotlib.figure.Figure at 0x292f674518>"
      ]
     },
     "metadata": {
      "image/png": {
       "height": 319,
       "width": 355
      }
     },
     "output_type": "display_data"
    }
   ],
   "source": [
    "\"\"\"\n",
    "DON'T MODIFY ANYTHING IN THIS CELL\n",
    "\"\"\"\n",
    "%matplotlib inline\n",
    "%config InlineBackend.figure_format = 'retina'\n",
    "\n",
    "import tensorflow as tf\n",
    "import pickle\n",
    "import helper\n",
    "import random\n",
    "\n",
    "# Set batch size if not already set\n",
    "try:\n",
    "    if batch_size:\n",
    "        pass\n",
    "except NameError:\n",
    "    batch_size = 64\n",
    "\n",
    "save_model_path = './image_classification'\n",
    "n_samples = 4\n",
    "top_n_predictions = 3\n",
    "\n",
    "def test_model():\n",
    "    \"\"\"\n",
    "    Test the saved model against the test dataset\n",
    "    \"\"\"\n",
    "\n",
    "    test_features, test_labels = pickle.load(open('preprocess_training.p', mode='rb'))\n",
    "    loaded_graph = tf.Graph()\n",
    "\n",
    "    with tf.Session(graph=loaded_graph) as sess:\n",
    "        # Load model\n",
    "        loader = tf.train.import_meta_graph(save_model_path + '.meta')\n",
    "        loader.restore(sess, save_model_path)\n",
    "\n",
    "        # Get Tensors from loaded model\n",
    "        loaded_x = loaded_graph.get_tensor_by_name('x:0')\n",
    "        loaded_y = loaded_graph.get_tensor_by_name('y:0')\n",
    "        loaded_keep_prob = loaded_graph.get_tensor_by_name('keep_prob:0')\n",
    "        loaded_logits = loaded_graph.get_tensor_by_name('logits:0')\n",
    "        loaded_acc = loaded_graph.get_tensor_by_name('accuracy:0')\n",
    "        \n",
    "        # Get accuracy in batches for memory limitations\n",
    "        test_batch_acc_total = 0\n",
    "        test_batch_count = 0\n",
    "        \n",
    "        for train_feature_batch, train_label_batch in helper.batch_features_labels(test_features, test_labels, batch_size):\n",
    "            test_batch_acc_total += sess.run(\n",
    "                loaded_acc,\n",
    "                feed_dict={loaded_x: train_feature_batch, loaded_y: train_label_batch, loaded_keep_prob: 1.0})\n",
    "            test_batch_count += 1\n",
    "\n",
    "        print('Testing Accuracy: {}\\n'.format(test_batch_acc_total/test_batch_count))\n",
    "\n",
    "        # Print Random Samples\n",
    "        random_test_features, random_test_labels = tuple(zip(*random.sample(list(zip(test_features, test_labels)), n_samples)))\n",
    "        random_test_predictions = sess.run(\n",
    "            tf.nn.top_k(tf.nn.softmax(loaded_logits), top_n_predictions),\n",
    "            feed_dict={loaded_x: random_test_features, loaded_y: random_test_labels, loaded_keep_prob: 1.0})\n",
    "        helper.display_image_predictions(random_test_features, random_test_labels, random_test_predictions)\n",
    "\n",
    "\n",
    "test_model()"
   ]
  },
  {
   "cell_type": "markdown",
   "metadata": {},
   "source": [
    "## Why 50-70% Accuracy?\n",
    "You might be wondering why you can't get an accuracy any higher. First things first, 50% isn't bad for a simple CNN.  Pure guessing would get you 10% accuracy. However, you might notice people are getting scores [well above 70%](http://rodrigob.github.io/are_we_there_yet/build/classification_datasets_results.html#43494641522d3130).  That's because we haven't taught you all there is to know about neural networks. We still need to cover a few more techniques.\n",
    "## Submitting This Project\n",
    "When submitting this project, make sure to run all the cells before saving the notebook.  Save the notebook file as \"dlnd_image_classification.ipynb\" and save it as a HTML file under \"File\" -> \"Download as\".  Include the \"helper.py\" and \"problem_unittests.py\" files in your submission."
   ]
  }
 ],
 "metadata": {
  "kernelspec": {
   "display_name": "Python 3",
   "language": "python",
   "name": "python3"
  },
  "language_info": {
   "codemirror_mode": {
    "name": "ipython",
    "version": 3
   },
   "file_extension": ".py",
   "mimetype": "text/x-python",
   "name": "python",
   "nbconvert_exporter": "python",
   "pygments_lexer": "ipython3",
   "version": "3.5.3"
  }
 },
 "nbformat": 4,
 "nbformat_minor": 0
}
